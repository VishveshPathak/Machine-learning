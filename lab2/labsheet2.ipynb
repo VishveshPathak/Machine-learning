{
 "cells": [
  {
   "cell_type": "code",
   "execution_count": 1,
   "metadata": {},
   "outputs": [
    {
     "name": "stdout",
     "output_type": "stream",
     "text": [
      "[1 6 7 9]\n",
      "[1 0 6 9]\n",
      "equal values : \n",
      "2\n"
     ]
    }
   ],
   "source": [
    "#q1\n",
    "import numpy as np\n",
    "V1=np.array([1,6,7,9])\n",
    "V2=np.array([1,0,6,9])\n",
    "print(V1)\n",
    "print(V2)\n",
    "print('equal values : ')\n",
    "print(np.sum(V1==V2))"
   ]
  },
  {
   "cell_type": "code",
   "execution_count": 2,
   "metadata": {},
   "outputs": [
    {
     "name": "stdout",
     "output_type": "stream",
     "text": [
      "[[88 42  3]\n",
      " [19 32 32]\n",
      " [24 22 12]\n",
      " [28 57 24]\n",
      " [15 67 10]\n",
      " [78 50 67]\n",
      " [52 15  3]\n",
      " [67 97 83]\n",
      " [59 65 17]\n",
      " [29  7 83]]\n",
      "(10, 3)\n"
     ]
    }
   ],
   "source": [
    "#q2\n",
    "M=np.matrix(np.random.randint(1,100,size=(10,3)))\n",
    "print(M)\n",
    "print(M.shape)"
   ]
  },
  {
   "cell_type": "code",
   "execution_count": 3,
   "metadata": {},
   "outputs": [
    {
     "name": "stdout",
     "output_type": "stream",
     "text": [
      "10\n",
      "3\n"
     ]
    }
   ],
   "source": [
    "print(M.shape[0])\n",
    "print(M.shape[1])\n"
   ]
  },
  {
   "cell_type": "code",
   "execution_count": 4,
   "metadata": {},
   "outputs": [
    {
     "name": "stdout",
     "output_type": "stream",
     "text": [
      "[[88 42  0]\n",
      " [19 32  0]\n",
      " [24 22  0]\n",
      " [28 57  0]\n",
      " [15 67  0]\n",
      " [78 50  1]\n",
      " [52 15  0]\n",
      " [67 97  1]\n",
      " [59 65  1]\n",
      " [29  7  1]]\n"
     ]
    }
   ],
   "source": [
    "y=0;\n",
    "for x in M:\n",
    "    arr=np.array(x)\n",
    "    c=arr[0][0]+arr[0][1]\n",
    "    if c%4==0:\n",
    "        arr[0][2]=1\n",
    "    else:\n",
    "        arr[0][2]=0\n",
    "    M[y]=arr\n",
    "    y=y+1\n",
    "\n",
    "print(M)"
   ]
  },
  {
   "cell_type": "code",
   "execution_count": 5,
   "metadata": {},
   "outputs": [
    {
     "name": "stdout",
     "output_type": "stream",
     "text": [
      "   X1  X2  Y\n",
      "0  88  42  0\n",
      "1  19  32  0\n",
      "2  24  22  0\n",
      "3  28  57  0\n",
      "4  15  67  0\n",
      "5  78  50  1\n",
      "6  52  15  0\n",
      "7  67  97  1\n",
      "8  59  65  1\n",
      "9  29   7  1\n"
     ]
    }
   ],
   "source": [
    "#q3\n",
    "import pandas as pd\n",
    "import matplotlib.pyplot as plt \n",
    "lst=M\n",
    "df = pd.DataFrame(lst,columns=['X1','X2','Y'])\n",
    "print(df)"
   ]
  },
  {
   "cell_type": "code",
   "execution_count": 6,
   "metadata": {},
   "outputs": [
    {
     "data": {
      "image/png": "[encoded data removed]",
      "text/plain": [
       "<Figure size 432x288 with 1 Axes>"
      ]
     },
     "metadata": {
      "needs_background": "light"
     },
     "output_type": "display_data"
    }
   ],
   "source": [
    "#q4\n",
    "col = df.Y.map({0:'b',1:'r'})\n",
    "df.plot.scatter(x='X1',y='X2',c=col)\n",
    "plt.show()"
   ]
  },
  {
   "cell_type": "code",
   "execution_count": 7,
   "metadata": {},
   "outputs": [
    {
     "name": "stdout",
     "output_type": "stream",
     "text": [
      "0    2116\n",
      "1     169\n",
      "2       4\n",
      "3     841\n",
      "4    2704\n",
      "5     784\n",
      "6    1369\n",
      "7     900\n",
      "8      36\n",
      "9     484\n",
      "dtype: int32\n"
     ]
    }
   ],
   "source": [
    "#q5\n",
    "D=np.square(df['X1']-df['X2'])\n",
    "print(D)"
   ]
  },
  {
   "cell_type": "code",
   "execution_count": 8,
   "metadata": {},
   "outputs": [
    {
     "name": "stdout",
     "output_type": "stream",
     "text": [
      "9407\n"
     ]
    }
   ],
   "source": [
    "print(sum(D))"
   ]
  },
  {
   "cell_type": "code",
   "execution_count": 9,
   "metadata": {},
   "outputs": [
    {
     "name": "stdout",
     "output_type": "stream",
     "text": [
      "69.72087205421343\n",
      "69.72087205421343\n"
     ]
    }
   ],
   "source": [
    "#q6\n",
    "a=np.array(M[0])\n",
    "b=np.array(M[1])\n",
    "distance=np.sqrt(np.sum((a-b)**2))\n",
    "print(distance)\n",
    "print(np.linalg.norm(a-b))"
   ]
  },
  {
   "cell_type": "code",
   "execution_count": 10,
   "metadata": {},
   "outputs": [
    {
     "name": "stdout",
     "output_type": "stream",
     "text": [
      "[ 9 41]\n"
     ]
    }
   ],
   "source": [
    "#q7\n",
    "V=np.random.randint(100,size=(2))\n",
    "print(V)"
   ]
  },
  {
   "cell_type": "code",
   "execution_count": 11,
   "metadata": {},
   "outputs": [
    {
     "name": "stdout",
     "output_type": "stream",
     "text": [
      "0    46.0\n",
      "1    13.0\n",
      "2     2.0\n",
      "3    29.0\n",
      "4    52.0\n",
      "5    29.0\n",
      "6    37.0\n",
      "7    29.0\n",
      "8     5.0\n",
      "9    23.0\n",
      "dtype: float64\n"
     ]
    }
   ],
   "source": [
    "c=np.array(M[2])\n",
    "NewD=np.sqrt(np.square(df['X1']-df['X2']+df['Y']))\n",
    "print(NewD)"
   ]
  },
  {
   "cell_type": "code",
   "execution_count": 12,
   "metadata": {},
   "outputs": [
    {
     "name": "stdout",
     "output_type": "stream",
     "text": [
      "[[1 2 3]\n",
      " [2 3 4]]\n",
      "[[1 2 3 6]\n",
      " [2 3 4 7]]\n",
      "[[1 2 3 6]\n",
      " [2 3 4 7]\n",
      " [1 1 1 1]]\n"
     ]
    }
   ],
   "source": [
    "#q8\n",
    "A=np.array([[1,2,3],[2,3,4]])\n",
    "print(A)\n",
    "C=np.array([6,7])\n",
    "A=np.column_stack((A,C))\n",
    "print(A)\n",
    "R=np.array([1,1,1,1])\n",
    "A=np.vstack((A,R))\n",
    "print(A)"
   ]
  },
  {
   "cell_type": "code",
   "execution_count": 13,
   "metadata": {},
   "outputs": [
    {
     "name": "stdout",
     "output_type": "stream",
     "text": [
      "[[79 79]\n",
      " [12 18]\n",
      " [65 69]\n",
      " [51 73]\n",
      " [ 8 42]\n",
      " [35 35]\n",
      " [ 8 85]\n",
      " [51 80]\n",
      " [79 17]\n",
      " [75 40]]\n"
     ]
    }
   ],
   "source": [
    "#Q9\n",
    "M1=np.matrix(np.random.randint(1,100,size=(10,2)))\n",
    "print(M1)"
   ]
  },
  {
   "cell_type": "code",
   "execution_count": 14,
   "metadata": {},
   "outputs": [
    {
     "name": "stdout",
     "output_type": "stream",
     "text": [
      "   X1  X2\n",
      "0  79  79\n",
      "1  12  18\n",
      "2  65  69\n",
      "3  51  73\n",
      "4   8  42\n",
      "5  35  35\n",
      "6   8  85\n",
      "7  51  80\n",
      "8  79  17\n",
      "9  75  40\n"
     ]
    }
   ],
   "source": [
    "df1=pd.DataFrame(M1,columns=['X1','X2'])\n",
    "print(df1)"
   ]
  },
  {
   "cell_type": "code",
   "execution_count": 15,
   "metadata": {},
   "outputs": [
    {
     "name": "stdout",
     "output_type": "stream",
     "text": [
      "   X1  X2   Y\n",
      "0   9 -37 NaN\n",
      "1   7  14 NaN\n",
      "2 -41 -47 NaN\n",
      "3 -23 -16 NaN\n",
      "4   7  25 NaN\n",
      "5  43  15 NaN\n",
      "6  44 -70 NaN\n",
      "7  16  17 NaN\n",
      "8 -20  48 NaN\n",
      "9 -46 -33 NaN\n"
     ]
    }
   ],
   "source": [
    "NewD1=df-df1\n",
    "print(NewD1)"
   ]
  },
  {
   "cell_type": "code",
   "execution_count": 16,
   "metadata": {},
   "outputs": [],
   "source": [
    "#for x in NewD1:\n",
    "#    a=np.array(x)\n",
    "#   a=np.sqrt(np.sum(np.square(a)))\n",
    "#print(a)"
   ]
  },
  {
   "cell_type": "code",
   "execution_count": 17,
   "metadata": {},
   "outputs": [],
   "source": [
    "#Q10"
   ]
  },
  {
   "cell_type": "code",
   "execution_count": 18,
   "metadata": {},
   "outputs": [
    {
     "data": {
      "text/html": [
       "<div>\n",
       "<style scoped>\n",
       "    .dataframe tbody tr th:only-of-type {\n",
       "        vertical-align: middle;\n",
       "    }\n",
       "\n",
       "    .dataframe tbody tr th {\n",
       "        vertical-align: top;\n",
       "    }\n",
       "\n",
       "    .dataframe thead th {\n",
       "        text-align: right;\n",
       "    }\n",
       "</style>\n",
       "<table border=\"1\" class=\"dataframe\">\n",
       "  <thead>\n",
       "    <tr style=\"text-align: right;\">\n",
       "      <th></th>\n",
       "      <th>Pregnancies</th>\n",
       "      <th>Glucose</th>\n",
       "      <th>BloodPressure</th>\n",
       "      <th>SkinThickness</th>\n",
       "      <th>Insulin</th>\n",
       "      <th>BMI</th>\n",
       "      <th>DiabetesPedigreeFunction</th>\n",
       "      <th>Age</th>\n",
       "      <th>Outcome</th>\n",
       "    </tr>\n",
       "  </thead>\n",
       "  <tbody>\n",
       "    <tr>\n",
       "      <th>0</th>\n",
       "      <td>6</td>\n",
       "      <td>148</td>\n",
       "      <td>72</td>\n",
       "      <td>35</td>\n",
       "      <td>0</td>\n",
       "      <td>33.6</td>\n",
       "      <td>0.627</td>\n",
       "      <td>50</td>\n",
       "      <td>1</td>\n",
       "    </tr>\n",
       "    <tr>\n",
       "      <th>1</th>\n",
       "      <td>1</td>\n",
       "      <td>85</td>\n",
       "      <td>66</td>\n",
       "      <td>29</td>\n",
       "      <td>0</td>\n",
       "      <td>26.6</td>\n",
       "      <td>0.351</td>\n",
       "      <td>31</td>\n",
       "      <td>0</td>\n",
       "    </tr>\n",
       "    <tr>\n",
       "      <th>2</th>\n",
       "      <td>8</td>\n",
       "      <td>183</td>\n",
       "      <td>64</td>\n",
       "      <td>0</td>\n",
       "      <td>0</td>\n",
       "      <td>23.3</td>\n",
       "      <td>0.672</td>\n",
       "      <td>32</td>\n",
       "      <td>1</td>\n",
       "    </tr>\n",
       "    <tr>\n",
       "      <th>3</th>\n",
       "      <td>1</td>\n",
       "      <td>89</td>\n",
       "      <td>66</td>\n",
       "      <td>23</td>\n",
       "      <td>94</td>\n",
       "      <td>28.1</td>\n",
       "      <td>0.167</td>\n",
       "      <td>21</td>\n",
       "      <td>0</td>\n",
       "    </tr>\n",
       "    <tr>\n",
       "      <th>4</th>\n",
       "      <td>0</td>\n",
       "      <td>137</td>\n",
       "      <td>40</td>\n",
       "      <td>35</td>\n",
       "      <td>168</td>\n",
       "      <td>43.1</td>\n",
       "      <td>2.288</td>\n",
       "      <td>33</td>\n",
       "      <td>1</td>\n",
       "    </tr>\n",
       "  </tbody>\n",
       "</table>\n",
       "</div>"
      ],
      "text/plain": [
       "   Pregnancies  Glucose  BloodPressure  SkinThickness  Insulin   BMI  \\\n",
       "0            6      148             72             35        0  33.6   \n",
       "1            1       85             66             29        0  26.6   \n",
       "2            8      183             64              0        0  23.3   \n",
       "3            1       89             66             23       94  28.1   \n",
       "4            0      137             40             35      168  43.1   \n",
       "\n",
       "   DiabetesPedigreeFunction  Age  Outcome  \n",
       "0                     0.627   50        1  \n",
       "1                     0.351   31        0  \n",
       "2                     0.672   32        1  \n",
       "3                     0.167   21        0  \n",
       "4                     2.288   33        1  "
      ]
     },
     "execution_count": 18,
     "metadata": {},
     "output_type": "execute_result"
    }
   ],
   "source": [
    "#part B\n",
    "\n",
    "import pandas as pd\n",
    "data=pd.read_csv(\"diabetes_dataset.csv\")\n",
    "data.head()"
   ]
  },
  {
   "cell_type": "code",
   "execution_count": 21,
   "metadata": {},
   "outputs": [
    {
     "name": "stdout",
     "output_type": "stream",
     "text": [
      "[[3.000e+00 9.600e+01 7.800e+01 ... 3.730e+01 2.380e-01 4.000e+01]\n",
      " [8.000e+00 8.500e+01 5.500e+01 ... 2.440e+01 1.360e-01 4.200e+01]\n",
      " [5.000e+00 1.320e+02 8.000e+01 ... 2.680e+01 1.860e-01 6.900e+01]\n",
      " ...\n",
      " [0.000e+00 1.270e+02 8.000e+01 ... 3.630e+01 8.040e-01 2.300e+01]\n",
      " [6.000e+00 1.660e+02 7.400e+01 ... 2.660e+01 3.040e-01 6.600e+01]\n",
      " [1.000e+00 1.990e+02 7.600e+01 ... 4.290e+01 1.394e+00 2.200e+01]]\n"
     ]
    }
   ],
   "source": [
    "from sklearn.model_selection import train_test_split\n",
    "arr=data.values\n",
    "X=arr[:,0:8]\n",
    "Y=arr[:,8]\n",
    "X_train, X_test, y_train, y_test = train_test_split(X, Y, test_size=0.20)\n",
    "print( X_test)"
   ]
  },
  {
   "cell_type": "code",
   "execution_count": 23,
   "metadata": {},
   "outputs": [],
   "source": [
    "from sklearn.preprocessing import StandardScaler\n",
    "scaler=StandardScaler().fit(X_train)"
   ]
  },
  {
   "cell_type": "code",
   "execution_count": 24,
   "metadata": {},
   "outputs": [],
   "source": [
    "from sklearn.neighbors import KNeighborsClassifier\n",
    "classifier = KNeighborsClassifier(n_neighbors=5)\n",
    "classifier.fit(X_train, y_train)\n",
    "y_pred = classifier.predict(X_test)"
   ]
  },
  {
   "cell_type": "code",
   "execution_count": 25,
   "metadata": {},
   "outputs": [
    {
     "name": "stdout",
     "output_type": "stream",
     "text": [
      "[[85 14]\n",
      " [25 30]]\n",
      "              precision    recall  f1-score   support\n",
      "\n",
      "         0.0       0.77      0.86      0.81        99\n",
      "         1.0       0.68      0.55      0.61        55\n",
      "\n",
      "    accuracy                           0.75       154\n",
      "   macro avg       0.73      0.70      0.71       154\n",
      "weighted avg       0.74      0.75      0.74       154\n",
      "\n"
     ]
    }
   ],
   "source": [
    "from sklearn.metrics import classification_report, confusion_matrix\n",
    "print(confusion_matrix(y_test, y_pred))\n",
    "print(classification_report(y_test, y_pred))"
   ]
  },
  {
   "cell_type": "code",
   "execution_count": 26,
   "metadata": {},
   "outputs": [
    {
     "name": "stdout",
     "output_type": "stream",
     "text": [
      "[[89 10]\n",
      " [31 24]]\n",
      "              precision    recall  f1-score   support\n",
      "\n",
      "         0.0       0.74      0.90      0.81        99\n",
      "         1.0       0.71      0.44      0.54        55\n",
      "\n",
      "    accuracy                           0.73       154\n",
      "   macro avg       0.72      0.67      0.68       154\n",
      "weighted avg       0.73      0.73      0.72       154\n",
      "\n"
     ]
    }
   ],
   "source": [
    "classifier = KNeighborsClassifier(n_neighbors=6)\n",
    "classifier.fit(X_train, y_train)\n",
    "y_pred = classifier.predict(X_test)\n",
    "from sklearn.metrics import classification_report, confusion_matrix\n",
    "print(confusion_matrix(y_test, y_pred))\n",
    "print(classification_report(y_test, y_pred))"
   ]
  },
  {
   "cell_type": "code",
   "execution_count": 27,
   "metadata": {},
   "outputs": [
    {
     "name": "stdout",
     "output_type": "stream",
     "text": [
      "[[88 11]\n",
      " [31 24]]\n",
      "              precision    recall  f1-score   support\n",
      "\n",
      "         0.0       0.74      0.89      0.81        99\n",
      "         1.0       0.69      0.44      0.53        55\n",
      "\n",
      "    accuracy                           0.73       154\n",
      "   macro avg       0.71      0.66      0.67       154\n",
      "weighted avg       0.72      0.73      0.71       154\n",
      "\n"
     ]
    }
   ],
   "source": [
    "classifier = KNeighborsClassifier(n_neighbors=10)\n",
    "classifier.fit(X_train, y_train)\n",
    "y_pred = classifier.predict(X_test)\n",
    "from sklearn.metrics import classification_report, confusion_matrix\n",
    "print(confusion_matrix(y_test, y_pred))\n",
    "print(classification_report(y_test, y_pred))"
   ]
  },
  {
   "cell_type": "code",
   "execution_count": null,
   "metadata": {},
   "outputs": [],
   "source": [
    "##bonus points on tutorial section of this labsheet"
   ]
  }
 ],
 "metadata": {
  "kernelspec": {
   "display_name": "Python 3",
   "language": "python",
   "name": "python3"
  },
  "language_info": {
   "codemirror_mode": {
    "name": "ipython",
    "version": 3
   },
   "file_extension": ".py",
   "mimetype": "text/x-python",
   "name": "python",
   "nbconvert_exporter": "python",
   "pygments_lexer": "ipython3",
   "version": "3.8.3"
  }
 },
 "nbformat": 4,
 "nbformat_minor": 4
}
