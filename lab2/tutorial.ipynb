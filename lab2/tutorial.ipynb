{
 "cells": [
  {
   "cell_type": "code",
   "execution_count": 1,
   "metadata": {},
   "outputs": [
    {
     "name": "stdout",
     "output_type": "stream",
     "text": [
      "[1 2 3]\n"
     ]
    }
   ],
   "source": [
    "#vector\n",
    "import numpy as np\n",
    "v = np.array([1,2,3])\n",
    "print(v)"
   ]
  },
  {
   "cell_type": "code",
   "execution_count": 2,
   "metadata": {},
   "outputs": [
    {
     "name": "stdout",
     "output_type": "stream",
     "text": [
      "12\n"
     ]
    }
   ],
   "source": [
    "v1=np.array([3,4,5])\n",
    "print(np.sum(v1))"
   ]
  },
  {
   "cell_type": "code",
   "execution_count": 3,
   "metadata": {},
   "outputs": [
    {
     "name": "stdout",
     "output_type": "stream",
     "text": [
      "[1 2 3]\n",
      "[3 4 5]\n",
      "[-2 -2 -2]\n"
     ]
    }
   ],
   "source": [
    "s=v-v1\n",
    "print(v)\n",
    "print(v1)\n",
    "print(s)"
   ]
  },
  {
   "cell_type": "code",
   "execution_count": 4,
   "metadata": {},
   "outputs": [
    {
     "name": "stdout",
     "output_type": "stream",
     "text": [
      "[1 4 9]\n"
     ]
    }
   ],
   "source": [
    "p = v**2\n",
    "print(p)"
   ]
  },
  {
   "cell_type": "code",
   "execution_count": 5,
   "metadata": {},
   "outputs": [
    {
     "name": "stdout",
     "output_type": "stream",
     "text": [
      "26\n"
     ]
    }
   ],
   "source": [
    "dot = np.dot(v,v1)\n",
    "print(dot)"
   ]
  },
  {
   "cell_type": "code",
   "execution_count": 6,
   "metadata": {},
   "outputs": [
    {
     "name": "stdout",
     "output_type": "stream",
     "text": [
      "[[1 2 3]\n",
      " [4 5 6]]\n"
     ]
    }
   ],
   "source": [
    "#matrices\n",
    "A= np.array([[1,2,3],[4,5,6]])\n",
    "print(A)"
   ]
  },
  {
   "cell_type": "code",
   "execution_count": 7,
   "metadata": {},
   "outputs": [
    {
     "name": "stdout",
     "output_type": "stream",
     "text": [
      "(2, 3)\n"
     ]
    }
   ],
   "source": [
    "print(A.shape)"
   ]
  },
  {
   "cell_type": "code",
   "execution_count": 8,
   "metadata": {},
   "outputs": [
    {
     "name": "stdout",
     "output_type": "stream",
     "text": [
      "[[1 2 3]\n",
      " [4 5 6]]\n",
      "[[1 1 1]\n",
      " [2 2 3]]\n",
      "[[2 3 4]\n",
      " [6 7 9]]\n"
     ]
    }
   ],
   "source": [
    "B=np.array([[1,1,1],[2,2,3]])\n",
    "c=A+B\n",
    "print(A)\n",
    "print(B)\n",
    "print(c)"
   ]
  },
  {
   "cell_type": "code",
   "execution_count": 9,
   "metadata": {},
   "outputs": [
    {
     "name": "stdout",
     "output_type": "stream",
     "text": [
      "[100, 200, 400, 'a']\n",
      "[100, 200, 400]\n",
      "[100, 200, 400, 200]\n",
      "[100, 400, 200]\n"
     ]
    }
   ],
   "source": [
    "#list\n",
    "prices = [100,200,400]\n",
    "prices.append('a')\n",
    "print(prices)\n",
    "prices.remove('a')\n",
    "print(prices)\n",
    "prices.append(200)\n",
    "print(prices)\n",
    "prices.remove(200)\n",
    "print(prices)"
   ]
  },
  {
   "cell_type": "code",
   "execution_count": 10,
   "metadata": {},
   "outputs": [
    {
     "name": "stdout",
     "output_type": "stream",
     "text": [
      "[('p1', 45), ('p2', 100)]\n"
     ]
    }
   ],
   "source": [
    "prices=list()\n",
    "prices.append(('p1',45))\n",
    "prices.append(('p2',100))\n",
    "print(prices)"
   ]
  },
  {
   "cell_type": "code",
   "execution_count": 11,
   "metadata": {},
   "outputs": [
    {
     "name": "stdout",
     "output_type": "stream",
     "text": [
      "[1, 2, 3, 4, 3, 3, 3]\n",
      "{1, 2, 3, 4}\n"
     ]
    }
   ],
   "source": [
    "s = [1,2,3,4,3,3,3]\n",
    "print(s)\n",
    "print(set(s))"
   ]
  },
  {
   "cell_type": "code",
   "execution_count": 12,
   "metadata": {},
   "outputs": [
    {
     "data": {
      "text/plain": [
       "5.0"
      ]
     },
     "execution_count": 12,
     "metadata": {},
     "output_type": "execute_result"
    }
   ],
   "source": [
    "#lambda function\n",
    "\n",
    "#div(a): a/2\n",
    "\n",
    "#def div(a):\n",
    "#   return a/2\n",
    "div = lambda x:x/2\n",
    "\n",
    "div(10)"
   ]
  },
  {
   "cell_type": "code",
   "execution_count": 13,
   "metadata": {},
   "outputs": [
    {
     "name": "stdout",
     "output_type": "stream",
     "text": [
      "[('p1', 45), ('p2', 100), ('p3', 10), ('p4', 55)]\n"
     ]
    }
   ],
   "source": [
    "prices.append(('p3',10))\n",
    "prices.append(('p4',55))\n",
    "print(prices)"
   ]
  },
  {
   "cell_type": "code",
   "execution_count": 14,
   "metadata": {},
   "outputs": [],
   "source": [
    "prices.sort()"
   ]
  },
  {
   "cell_type": "code",
   "execution_count": 15,
   "metadata": {},
   "outputs": [
    {
     "name": "stdout",
     "output_type": "stream",
     "text": [
      "[('p1', 45), ('p2', 100), ('p3', 10), ('p4', 55)]\n"
     ]
    }
   ],
   "source": [
    "print(prices)"
   ]
  },
  {
   "cell_type": "code",
   "execution_count": 17,
   "metadata": {},
   "outputs": [
    {
     "name": "stdout",
     "output_type": "stream",
     "text": [
      "[('a1', 54), ('p1', 45), ('p2', 100), ('p3', 10), ('p4', 55)]\n"
     ]
    }
   ],
   "source": [
    "prices.append(('a1',54))\n",
    "prices.sort()\n",
    "print(prices)"
   ]
  },
  {
   "cell_type": "code",
   "execution_count": 18,
   "metadata": {},
   "outputs": [
    {
     "name": "stdout",
     "output_type": "stream",
     "text": [
      "[('p3', 10), ('p1', 45), ('a1', 54), ('p4', 55), ('p2', 100)]\n"
     ]
    }
   ],
   "source": [
    "prices.sort(key=lambda x:x[1])\n",
    "print(prices)"
   ]
  },
  {
   "cell_type": "code",
   "execution_count": 20,
   "metadata": {},
   "outputs": [
    {
     "name": "stdout",
     "output_type": "stream",
     "text": [
      "[(1, 2, 3), (4, 5, 9), (7, 8, 9)]\n"
     ]
    }
   ],
   "source": [
    "a=[(1,2,3),(4,5,9),(7,8,9)]\n",
    "print(a)"
   ]
  },
  {
   "cell_type": "code",
   "execution_count": 22,
   "metadata": {},
   "outputs": [
    {
     "name": "stdout",
     "output_type": "stream",
     "text": [
      "[3, 9, 9]\n"
     ]
    }
   ],
   "source": [
    "o=[row[-1] for row in a]\n",
    "print(o)"
   ]
  },
  {
   "cell_type": "code",
   "execution_count": null,
   "metadata": {},
   "outputs": [],
   "source": [
    "#max count\n",
    "mx= max"
   ]
  }
 ],
 "metadata": {
  "kernelspec": {
   "display_name": "Python 3",
   "language": "python",
   "name": "python3"
  },
  "language_info": {
   "codemirror_mode": {
    "name": "ipython",
    "version": 3
   },
   "file_extension": ".py",
   "mimetype": "text/x-python",
   "name": "python",
   "nbconvert_exporter": "python",
   "pygments_lexer": "ipython3",
   "version": "3.8.3"
  }
 },
 "nbformat": 4,
 "nbformat_minor": 4
}
