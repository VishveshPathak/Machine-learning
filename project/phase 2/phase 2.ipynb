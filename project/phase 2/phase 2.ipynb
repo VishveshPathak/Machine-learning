{
 "cells": [
  {
   "cell_type": "code",
   "execution_count": 1,
   "metadata": {},
   "outputs": [],
   "source": [
    "\n",
    "#Import the necesasary libraties and image files\n",
    "#Create a Linear SVM model and train it\n",
    "#Check the accuracy score of the model\n",
    "#Predict some random images\n",
    "#Improve the model using PCA\n"
   ]
  },
  {
   "cell_type": "code",
   "execution_count": 15,
   "metadata": {},
   "outputs": [],
   "source": [
    "import pandas as pd\n",
    "import numpy as np\n",
    "import seaborn as sns\n",
    "import matplotlib.pyplot as plt\n",
    "import os\n",
    "import cv2\n",
    "\n",
    "from tqdm import tqdm\n",
    "import random as rn\n",
    "from random import shuffle  \n",
    "from zipfile import ZipFile\n",
    "from PIL import Image\n",
    "\n",
    "from skimage import feature, color, data\n",
    "from sklearn.preprocessing import LabelEncoder\n",
    "from sklearn.model_selection import cross_val_score\n",
    "from sklearn.model_selection import KFold, StratifiedKFold\n",
    "from sklearn.metrics import confusion_matrix, accuracy_score, classification_report"
   ]
  },
  {
   "cell_type": "code",
   "execution_count": 8,
   "metadata": {},
   "outputs": [],
   "source": [
    "training_image_path=\"seg_train/seg_train\"\n",
    "test_image_path=\"seg_test/seg_test\"\n",
    "X_train=[]\n",
    "train_label=[]\n",
    "X_test=[]\n",
    "test_label=[]\n",
    "scene_label=['Buildings','Forest','Glacier','Mountain','Sea','Street']"
   ]
  },
  {
   "cell_type": "code",
   "execution_count": 9,
   "metadata": {},
   "outputs": [],
   "source": [
    "def histogram_extract(img_path):\n",
    "    img=cv2.imread(img_path)\n",
    "    img=cv2.resize(img,(80,60))\n",
    "    hist_data=feature.hog(img)\n",
    "    return hist_data\n",
    "def to_array(scene_type,root_img_path,data_type):\n",
    "    scene_path=os.path.join(root_img_path,scene_type.lower())\n",
    "    print('loading '+data_type+' images for '+scene_type)\n",
    "    for img in os.listdir(scene_path):\n",
    "        img_path = os.path.join(scene_path,img)\n",
    "        if img_path.endswith('.jpg'):\n",
    "            if(data_type == 'Train'):\n",
    "                X_train.append(histogram_extract(img_path))\n",
    "                train_label.append(str(scene_type))\n",
    "            if(data_type =='Test'):\n",
    "                X_test.append(histogram_extract(img_path))\n",
    "                test_label.append(np.array(str(scene_type)))\n"
   ]
  },
  {
   "cell_type": "code",
   "execution_count": 10,
   "metadata": {},
   "outputs": [
    {
     "name": "stdout",
     "output_type": "stream",
     "text": [
      "loading Train images for Buildings\n",
      "loading Train images for Forest\n",
      "loading Train images for Glacier\n",
      "loading Train images for Mountain\n",
      "loading Train images for Sea\n",
      "loading Train images for Street\n"
     ]
    },
    {
     "data": {
      "text/plain": [
       "14034"
      ]
     },
     "execution_count": 10,
     "metadata": {},
     "output_type": "execute_result"
    }
   ],
   "source": [
    "[to_array(scene,training_image_path,'Train')for scene in scene_label]\n",
    "len(X_train)"
   ]
  },
  {
   "cell_type": "code",
   "execution_count": 11,
   "metadata": {},
   "outputs": [
    {
     "name": "stdout",
     "output_type": "stream",
     "text": [
      "loading Test images for Buildings\n",
      "loading Test images for Forest\n",
      "loading Test images for Glacier\n",
      "loading Test images for Mountain\n",
      "loading Test images for Sea\n",
      "loading Test images for Street\n"
     ]
    },
    {
     "data": {
      "text/plain": [
       "3000"
      ]
     },
     "execution_count": 11,
     "metadata": {},
     "output_type": "execute_result"
    }
   ],
   "source": [
    "[to_array(scene,test_image_path,'Test')for scene in scene_label]\n",
    "len(X_test)"
   ]
  },
  {
   "cell_type": "code",
   "execution_count": 12,
   "metadata": {},
   "outputs": [],
   "source": [
    "y_train=LabelEncoder().fit_transform(train_label)\n",
    "y_test=LabelEncoder().fit_transform(test_label)"
   ]
  },
  {
   "cell_type": "code",
   "execution_count": 8,
   "metadata": {},
   "outputs": [
    {
     "name": "stdout",
     "output_type": "stream",
     "text": [
      "Coef [[-0.64503317  0.09698707  0.57258215 ... -0.50216108  0.41276405\n",
      "  -0.11194505]\n",
      " [ 1.07504918  0.87126116  0.2449556  ... -0.50060398 -0.06239252\n",
      "   0.52287177]\n",
      " [-0.27588407 -0.22047189  0.29167076 ...  0.18159935 -0.15699242\n",
      "  -0.53638534]\n",
      " [ 0.51693978 -0.29843309 -0.24823484 ... -0.32410076  0.15216312\n",
      "   0.24721279]\n",
      " [ 0.17102648  0.02173343 -0.02165942 ...  0.33153798 -0.48170464\n",
      "  -0.06498767]\n",
      " [ 0.1068939  -0.40869309 -0.60084973 ...  0.41935245  0.15195402\n",
      "  -0.21336117]]\n",
      "Intercept [-3.55951308 -8.71497259 -1.89922876  0.80828262 -2.66127498 -3.12779716]\n"
     ]
    },
    {
     "name": "stderr",
     "output_type": "stream",
     "text": [
      "C:\\Users\\vishv\\anaconda3\\lib\\site-packages\\sklearn\\svm\\_base.py:976: ConvergenceWarning: Liblinear failed to converge, increase the number of iterations.\n",
      "  warnings.warn(\"Liblinear failed to converge, increase \"\n"
     ]
    }
   ],
   "source": [
    "from sklearn.svm import LinearSVC\n",
    "svc=LinearSVC(random_state=0,tol=1e-5)\n",
    "svc.fit(X_train,y_train)\n",
    "print('Coef',svc.coef_)\n",
    "print('Intercept',svc.intercept_)"
   ]
  },
  {
   "cell_type": "code",
   "execution_count": 44,
   "metadata": {},
   "outputs": [],
   "source": [
    "def scene_predict(img_path):\n",
    "    img = cv2.imread(img_path)\n",
    "    ip_image = Image.open(img_path)\n",
    "    img = cv2.resize(img,(80,60))\n",
    "    prd_image_data = histogram_extract(img_path)\n",
    "    scene_predicted = svc.predict(prd_image_data.reshape(1, -1))[0]\n",
    "    plt.imshow(img)\n",
    "    plt.title(\"prediction : \"+scene_label[scene_predicted])    "
   ]
  },
  {
   "cell_type": "code",
   "execution_count": 45,
   "metadata": {},
   "outputs": [
    {
     "data": {
      "image/png": "[encoded data removed]",
      "text/plain": [
       "<Figure size 432x288 with 1 Axes>"
      ]
     },
     "metadata": {
      "needs_background": "light"
     },
     "output_type": "display_data"
    }
   ],
   "source": [
    "ip_img_folder = 'seg_pred/seg_pred/'\n",
    "ip_img_files = '222.jpg'\n",
    "scene_predict(os.path.join(ip_img_folder,ip_img_files))"
   ]
  },
  {
   "cell_type": "code",
   "execution_count": 49,
   "metadata": {
    "scrolled": true
   },
   "outputs": [
    {
     "name": "stdout",
     "output_type": "stream",
     "text": [
      "Score 0.6576666666666666\n"
     ]
    },
    {
     "name": "stderr",
     "output_type": "stream",
     "text": [
      "C:\\Users\\vishv\\anaconda3\\lib\\site-packages\\sklearn\\model_selection\\_split.py:293: FutureWarning: Setting a random_state has no effect since shuffle is False. This will raise an error in 0.24. You should leave random_state to its default (None), or set shuffle=True.\n",
      "  warnings.warn(\n",
      "C:\\Users\\vishv\\anaconda3\\lib\\site-packages\\sklearn\\svm\\_base.py:976: ConvergenceWarning: Liblinear failed to converge, increase the number of iterations.\n",
      "  warnings.warn(\"Liblinear failed to converge, increase \"\n",
      "C:\\Users\\vishv\\anaconda3\\lib\\site-packages\\sklearn\\svm\\_base.py:976: ConvergenceWarning: Liblinear failed to converge, increase the number of iterations.\n",
      "  warnings.warn(\"Liblinear failed to converge, increase \"\n",
      "C:\\Users\\vishv\\anaconda3\\lib\\site-packages\\sklearn\\svm\\_base.py:976: ConvergenceWarning: Liblinear failed to converge, increase the number of iterations.\n",
      "  warnings.warn(\"Liblinear failed to converge, increase \"\n",
      "C:\\Users\\vishv\\anaconda3\\lib\\site-packages\\sklearn\\svm\\_base.py:976: ConvergenceWarning: Liblinear failed to converge, increase the number of iterations.\n",
      "  warnings.warn(\"Liblinear failed to converge, increase \"\n",
      "C:\\Users\\vishv\\anaconda3\\lib\\site-packages\\sklearn\\svm\\_base.py:976: ConvergenceWarning: Liblinear failed to converge, increase the number of iterations.\n",
      "  warnings.warn(\"Liblinear failed to converge, increase \"\n",
      "C:\\Users\\vishv\\anaconda3\\lib\\site-packages\\sklearn\\svm\\_base.py:976: ConvergenceWarning: Liblinear failed to converge, increase the number of iterations.\n",
      "  warnings.warn(\"Liblinear failed to converge, increase \"\n",
      "C:\\Users\\vishv\\anaconda3\\lib\\site-packages\\sklearn\\svm\\_base.py:976: ConvergenceWarning: Liblinear failed to converge, increase the number of iterations.\n",
      "  warnings.warn(\"Liblinear failed to converge, increase \"\n",
      "C:\\Users\\vishv\\anaconda3\\lib\\site-packages\\sklearn\\svm\\_base.py:976: ConvergenceWarning: Liblinear failed to converge, increase the number of iterations.\n",
      "  warnings.warn(\"Liblinear failed to converge, increase \"\n",
      "C:\\Users\\vishv\\anaconda3\\lib\\site-packages\\sklearn\\svm\\_base.py:976: ConvergenceWarning: Liblinear failed to converge, increase the number of iterations.\n",
      "  warnings.warn(\"Liblinear failed to converge, increase \"\n"
     ]
    },
    {
     "name": "stdout",
     "output_type": "stream",
     "text": [
      "[0.50569801 0.72222222 0.78347578 0.43091168 0.36778332 0.2038489\n",
      " 0.44618674 0.33570919 0.59942979 0.55880257]\n",
      "0.4954068205493723 0.16815291073985691\n"
     ]
    },
    {
     "name": "stderr",
     "output_type": "stream",
     "text": [
      "C:\\Users\\vishv\\anaconda3\\lib\\site-packages\\sklearn\\svm\\_base.py:976: ConvergenceWarning: Liblinear failed to converge, increase the number of iterations.\n",
      "  warnings.warn(\"Liblinear failed to converge, increase \"\n"
     ]
    }
   ],
   "source": [
    "svc_score = svc.score(X_test,y_test)\n",
    "print('Score', svc_score)\n",
    "kfold = KFold(n_splits=10, random_state=9)\n",
    "cv_results = cross_val_score(svc , X_train, y_train, cv=kfold, scoring=\"accuracy\")\n",
    "print(cv_results)\n",
    "print(cv_results.mean(), cv_results.std())intel"
   ]
  },
  {
   "cell_type": "markdown",
   "metadata": {},
   "source": [
    "## logistic regression"
   ]
  },
  {
   "cell_type": "code",
   "execution_count": 50,
   "metadata": {},
   "outputs": [
    {
     "name": "stderr",
     "output_type": "stream",
     "text": [
      "C:\\Users\\vishv\\anaconda3\\lib\\site-packages\\sklearn\\linear_model\\_logistic.py:762: ConvergenceWarning: lbfgs failed to converge (status=1):\n",
      "STOP: TOTAL NO. of ITERATIONS REACHED LIMIT.\n",
      "\n",
      "Increase the number of iterations (max_iter) or scale the data as shown in:\n",
      "    https://scikit-learn.org/stable/modules/preprocessing.html\n",
      "Please also refer to the documentation for alternative solver options:\n",
      "    https://scikit-learn.org/stable/modules/linear_model.html#logistic-regression\n",
      "  n_iter_i = _check_optimize_result(\n"
     ]
    }
   ],
   "source": [
    "from sklearn.linear_model import LogisticRegression\n",
    "\n",
    "logreg = LogisticRegression()\n",
    "\n",
    "logreg.fit(X_train,y_train)\n",
    "y_pred=logreg.predict(X_test)"
   ]
  },
  {
   "cell_type": "code",
   "execution_count": 51,
   "metadata": {},
   "outputs": [
    {
     "data": {
      "text/plain": [
       "array([[311,  21,  17,   7,  27,  54],\n",
       "       [ 12, 424,  11,   1,   0,  26],\n",
       "       [ 12,  14, 335, 125,  54,  13],\n",
       "       [  9,   5, 133, 271, 101,   6],\n",
       "       [ 12,   4,  69, 127, 288,  10],\n",
       "       [ 54,  43,  17,   6,  10, 371]], dtype=int64)"
      ]
     },
     "execution_count": 51,
     "metadata": {},
     "output_type": "execute_result"
    }
   ],
   "source": [
    "from sklearn import metrics\n",
    "cnf_matrix = metrics.confusion_matrix(y_test, y_pred)\n",
    "cnf_matrix"
   ]
  },
  {
   "cell_type": "code",
   "execution_count": 53,
   "metadata": {},
   "outputs": [
    {
     "data": {
      "text/plain": [
       "Text(0.5, 257.44, 'Predicted label')"
      ]
     },
     "execution_count": 53,
     "metadata": {},
     "output_type": "execute_result"
    },
    {
     "data": {
      "image/png": "[encoded data removed]",
      "text/plain": [
       "<Figure size 432x288 with 2 Axes>"
      ]
     },
     "metadata": {
      "needs_background": "light"
     },
     "output_type": "display_data"
    }
   ],
   "source": [
    "class_names=[0,1] # name  of classes\n",
    "fig, ax = plt.subplots()\n",
    "tick_marks = np.arange(len(class_names))\n",
    "plt.xticks(tick_marks, class_names)\n",
    "plt.yticks(tick_marks, class_names)\n",
    "sns.heatmap(pd.DataFrame(cnf_matrix), annot=True, cmap=\"YlGnBu\" ,fmt='g')\n",
    "ax.xaxis.set_label_position(\"top\")\n",
    "plt.tight_layout()\n",
    "plt.title('Confusion matrix', y=1.1)\n",
    "plt.ylabel('Actual label')\n",
    "plt.xlabel('Predicted label')"
   ]
  },
  {
   "cell_type": "code",
   "execution_count": 59,
   "metadata": {},
   "outputs": [
    {
     "name": "stdout",
     "output_type": "stream",
     "text": [
      "Accuracy: 0.6666666666666666\n",
      "Precision: 0.6670876149787995\n",
      "Recall: 0.6666666666666666\n"
     ]
    }
   ],
   "source": [
    "print(\"Accuracy:\",metrics.accuracy_score(y_test, y_pred))\n",
    "print(\"Precision:\",metrics.precision_score(y_test, y_pred,average='weighted'))\n",
    "print(\"Recall:\",metrics.recall_score(y_test, y_pred,average='weighted'))"
   ]
  },
  {
   "cell_type": "code",
   "execution_count": 60,
   "metadata": {},
   "outputs": [
    {
     "name": "stdout",
     "output_type": "stream",
     "text": [
      "[0 0 0 ... 4 4 5]\n"
     ]
    }
   ],
   "source": [
    "print(y_pred)"
   ]
  },
  {
   "cell_type": "code",
   "execution_count": 70,
   "metadata": {},
   "outputs": [
    {
     "data": {
      "image/png": "[encoded data removed]",
      "text/plain": [
       "<Figure size 432x288 with 1 Axes>"
      ]
     },
     "metadata": {
      "needs_background": "light"
     },
     "output_type": "display_data"
    }
   ],
   "source": [
    "def log_scene_predict(img_path):\n",
    "    img = cv2.imread(img_path)\n",
    "    ip_image = Image.open(img_path)\n",
    "    img = cv2.resize(img,(80,60))\n",
    "    prd_image_data = histogram_extract(img_path)\n",
    "    scene_predicted = logreg.predict(prd_image_data.reshape(1, -1))[0]\n",
    "    plt.imshow(img)\n",
    "    plt.title(\"prediction : \"+scene_label[scene_predicted])    \n",
    "ip_img_folder = 'seg_pred/seg_pred/'\n",
    "ip_img_files = '64.jpg'\n",
    "log_scene_predict(os.path.join(ip_img_folder,ip_img_files))"
   ]
  },
  {
   "cell_type": "markdown",
   "metadata": {},
   "source": [
    "## KNN"
   ]
  },
  {
   "cell_type": "code",
   "execution_count": 13,
   "metadata": {},
   "outputs": [
    {
     "name": "stdout",
     "output_type": "stream",
     "text": [
      "[[184 159  22  25  31  16]\n",
      " [  1 465   4   1   2   1]\n",
      " [  3  65 238  97 150   0]\n",
      " [  4  22  86 206 207   0]\n",
      " [  8  19  27  75 380   1]\n",
      " [ 35 268  40  12  25 121]]\n",
      "              precision    recall  f1-score   support\n",
      "\n",
      "           0       0.78      0.42      0.55       437\n",
      "           1       0.47      0.98      0.63       474\n",
      "           2       0.57      0.43      0.49       553\n",
      "           3       0.50      0.39      0.44       525\n",
      "           4       0.48      0.75      0.58       510\n",
      "           5       0.87      0.24      0.38       501\n",
      "\n",
      "    accuracy                           0.53      3000\n",
      "   macro avg       0.61      0.54      0.51      3000\n",
      "weighted avg       0.61      0.53      0.51      3000\n",
      "\n"
     ]
    }
   ],
   "source": [
    "from sklearn.neighbors import KNeighborsClassifier\n",
    "from sklearn.metrics import classification_report, confusion_matrix\n",
    "classifier = KNeighborsClassifier(n_neighbors=5)\n",
    "classifier.fit(X_train, y_train)\n",
    "y_pred = classifier.predict(X_test)\n",
    "print(confusion_matrix(y_test, y_pred))\n",
    "print(classification_report(y_test, y_pred))"
   ]
  },
  {
   "cell_type": "markdown",
   "metadata": {},
   "source": [
    "## knn is the best algorithm(precision ~ 80), implementation:"
   ]
  },
  {
   "cell_type": "code",
   "execution_count": 18,
   "metadata": {},
   "outputs": [],
   "source": [
    "import csv\n",
    "import random\n",
    "import math\n",
    "import operator\n",
    "import cv2\n",
    "\n",
    "\n",
    "def calculateEuclideanDistance(variable1, variable2, length):\n",
    "    distance = 0\n",
    "    for x in range(length):\n",
    "        distance += pow(variable1[x] - variable2[x], 2)\n",
    "    return math.sqrt(distance)\n",
    "\n",
    "\n",
    "def kNearestNeighbors(training_feature_vector, testInstance, k):\n",
    "    distances = []\n",
    "    length = len(testInstance)\n",
    "    for x in range(len(training_feature_vector)):\n",
    "        dist = calculateEuclideanDistance(testInstance,\n",
    "                training_feature_vector[x], length)\n",
    "        distances.append((training_feature_vector[x], dist))\n",
    "    distances.sort(key=operator.itemgetter(1))\n",
    "    neighbors = []\n",
    "    for x in range(k):\n",
    "        neighbors.append(distances[x][0])\n",
    "    return neighbors\n",
    "\n",
    "\n",
    "def responseOfNeighbors(neighbors):\n",
    "    all_possible_neighbors = {}\n",
    "    for x in range(len(neighbors)):\n",
    "        response = neighbors[x][-1]\n",
    "        if response in all_possible_neighbors:\n",
    "            all_possible_neighbors[response] += 1\n",
    "        else:\n",
    "            all_possible_neighbors[response] = 1\n",
    "    sortedVotes = sorted(all_possible_neighbors.items(),\n",
    "                         key=operator.itemgetter(1), reverse=True)\n",
    "    return sortedVotes[0][0]\n",
    "\n",
    "def knnmain(training_feature_vector, test_feature_vector):\n",
    "    classifier_prediction = []  # predictions\n",
    "    k = 3  # K value of k nearest neighbor\n",
    "    for x in range(len(test_feature_vector)):\n",
    "        neighbors = kNearestNeighbors(training_feature_vector, test_feature_vector[x], k)\n",
    "        result = responseOfNeighbors(neighbors)\n",
    "        classifier_prediction.append(result)\n",
    "    return classifier_prediction[0]\t\t\n"
   ]
  },
  {
   "cell_type": "markdown",
   "metadata": {},
   "source": [
    "## using kmeans and pca for unsueprvised learning"
   ]
  },
  {
   "cell_type": "markdown",
   "metadata": {},
   "source": [
    "## pca for finding best result svc"
   ]
  },
  {
   "cell_type": "code",
   "execution_count": 19,
   "metadata": {},
   "outputs": [],
   "source": [
    "from sklearn.svm import SVC\n",
    "from sklearn.model_selection import GridSearchCV\n",
    "\n",
    "def best_SVC(X,y):\n",
    "    svc_model = SVC()\n",
    "    param_dic = {'C':[1,10,100],\n",
    "                'gamma':[0.001,0.005,0.01]}\n",
    "    clf = GridSearchCV(svc_model, param_dic, n_jobs=-1)\n",
    "    clf.fit(X, y)\n",
    "    print(\"Best: \", clf.best_params_)\n",
    "    return clf.best_estimator_"
   ]
  },
  {
   "cell_type": "code",
   "execution_count": 22,
   "metadata": {},
   "outputs": [],
   "source": [
    "from sklearn.decomposition import PCA\n",
    "from sklearn.metrics import accuracy_score\n",
    "\n",
    "def benchmark(X,y):\n",
    "\n",
    "    pca = PCA(n_components = 24)\n",
    "    pca.fit(X_train)\n",
    "    reduced_X_train, reduced_X_test = pca.transform(X_train), pca.transform(X_test)\n",
    "\n",
    "    best_model = best_SVC(reduced_X_train,y_train)\n",
    "    predictions = best_model.predict(reduced_X_test)\n",
    "    return accuracy_score(y_test, predictions)"
   ]
  },
  {
   "cell_type": "code",
   "execution_count": 23,
   "metadata": {},
   "outputs": [
    {
     "name": "stdout",
     "output_type": "stream",
     "text": [
      "Best:  {'C': 100, 'gamma': 0.01}\n",
      "Best accuracy : 0.7016666666666667\n"
     ]
    }
   ],
   "source": [
    "score = benchmark(X_train, train_label)\n",
    "print(\"Best accuracy : {}\".format(score))"
   ]
  },
  {
   "cell_type": "code",
   "execution_count": null,
   "metadata": {},
   "outputs": [],
   "source": []
  }
 ],
 "metadata": {
  "kernelspec": {
   "display_name": "Python 3",
   "language": "python",
   "name": "python3"
  },
  "language_info": {
   "codemirror_mode": {
    "name": "ipython",
    "version": 3
   },
   "file_extension": ".py",
   "mimetype": "text/x-python",
   "name": "python",
   "nbconvert_exporter": "python",
   "pygments_lexer": "ipython3",
   "version": "3.8.5"
  }
 },
 "nbformat": 4,
 "nbformat_minor": 4
}
